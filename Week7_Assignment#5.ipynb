{
 "cells": [
  {
   "cell_type": "code",
   "execution_count": 1,
   "id": "852868f3",
   "metadata": {},
   "outputs": [
    {
     "name": "stdout",
     "output_type": "stream",
     "text": [
      "Populating the interactive namespace from numpy and matplotlib\n"
     ]
    }
   ],
   "source": [
    "%pylab inline\n",
    "import pandas as pd\n",
    "from pandas import Series, DataFrame"
   ]
  },
  {
   "cell_type": "code",
   "execution_count": 22,
   "id": "934e495e",
   "metadata": {},
   "outputs": [],
   "source": [
    "df = pd.read_csv('movies.csv', index_col=0)"
   ]
  },
  {
   "cell_type": "code",
   "execution_count": 23,
   "id": "4cc5956e",
   "metadata": {},
   "outputs": [
    {
     "data": {
      "text/html": [
       "<div>\n",
       "<style scoped>\n",
       "    .dataframe tbody tr th:only-of-type {\n",
       "        vertical-align: middle;\n",
       "    }\n",
       "\n",
       "    .dataframe tbody tr th {\n",
       "        vertical-align: top;\n",
       "    }\n",
       "\n",
       "    .dataframe thead th {\n",
       "        text-align: right;\n",
       "    }\n",
       "</style>\n",
       "<table border=\"1\" class=\"dataframe\">\n",
       "  <thead>\n",
       "    <tr style=\"text-align: right;\">\n",
       "      <th></th>\n",
       "      <th>Inception</th>\n",
       "      <th>Taxi Driver</th>\n",
       "      <th>Grease</th>\n",
       "      <th>Raging Bull</th>\n",
       "      <th>Space Jam</th>\n",
       "      <th>Dune</th>\n",
       "    </tr>\n",
       "  </thead>\n",
       "  <tbody>\n",
       "    <tr>\n",
       "      <th>Saar</th>\n",
       "      <td>3</td>\n",
       "      <td>5</td>\n",
       "      <td>3</td>\n",
       "      <td>5</td>\n",
       "      <td>4</td>\n",
       "      <td>1</td>\n",
       "    </tr>\n",
       "    <tr>\n",
       "      <th>Sofiya</th>\n",
       "      <td>3</td>\n",
       "      <td>5</td>\n",
       "      <td>4</td>\n",
       "      <td>5</td>\n",
       "      <td>3</td>\n",
       "      <td>2</td>\n",
       "    </tr>\n",
       "    <tr>\n",
       "      <th>Leo</th>\n",
       "      <td>5</td>\n",
       "      <td>3</td>\n",
       "      <td>2</td>\n",
       "      <td>3</td>\n",
       "      <td>5</td>\n",
       "      <td>4</td>\n",
       "    </tr>\n",
       "    <tr>\n",
       "      <th>Shay</th>\n",
       "      <td>4</td>\n",
       "      <td>4</td>\n",
       "      <td>2</td>\n",
       "      <td>4</td>\n",
       "      <td>2</td>\n",
       "      <td>5</td>\n",
       "    </tr>\n",
       "    <tr>\n",
       "      <th>Guy</th>\n",
       "      <td>2</td>\n",
       "      <td>5</td>\n",
       "      <td>2</td>\n",
       "      <td>5</td>\n",
       "      <td>4</td>\n",
       "      <td>4</td>\n",
       "    </tr>\n",
       "  </tbody>\n",
       "</table>\n",
       "</div>"
      ],
      "text/plain": [
       "        Inception  Taxi Driver  Grease  Raging Bull  Space Jam  Dune\n",
       "Saar            3            5       3            5          4     1\n",
       "Sofiya          3            5       4            5          3     2\n",
       "Leo             5            3       2            3          5     4\n",
       "Shay            4            4       2            4          2     5\n",
       "Guy             2            5       2            5          4     4"
      ]
     },
     "execution_count": 23,
     "metadata": {},
     "output_type": "execute_result"
    }
   ],
   "source": [
    "df"
   ]
  },
  {
   "cell_type": "code",
   "execution_count": 24,
   "id": "469e004c",
   "metadata": {},
   "outputs": [
    {
     "data": {
      "text/plain": [
       "Inception      3.4\n",
       "Taxi Driver    4.4\n",
       "Grease         2.6\n",
       "Raging Bull    4.4\n",
       "Space Jam      3.6\n",
       "Dune           3.2\n",
       "dtype: float64"
      ]
     },
     "execution_count": 24,
     "metadata": {},
     "output_type": "execute_result"
    }
   ],
   "source": [
    "# average rating per movie for users\n",
    "df.mean()"
   ]
  },
  {
   "cell_type": "code",
   "execution_count": 33,
   "id": "0fea238b",
   "metadata": {},
   "outputs": [
    {
     "data": {
      "text/html": [
       "<div>\n",
       "<style scoped>\n",
       "    .dataframe tbody tr th:only-of-type {\n",
       "        vertical-align: middle;\n",
       "    }\n",
       "\n",
       "    .dataframe tbody tr th {\n",
       "        vertical-align: top;\n",
       "    }\n",
       "\n",
       "    .dataframe thead th {\n",
       "        text-align: right;\n",
       "    }\n",
       "</style>\n",
       "<table border=\"1\" class=\"dataframe\">\n",
       "  <thead>\n",
       "    <tr style=\"text-align: right;\">\n",
       "      <th></th>\n",
       "      <th>Inception</th>\n",
       "      <th>Taxi Driver</th>\n",
       "      <th>Grease</th>\n",
       "      <th>Raging Bull</th>\n",
       "      <th>Space Jam</th>\n",
       "      <th>Dune</th>\n",
       "    </tr>\n",
       "  </thead>\n",
       "  <tbody>\n",
       "    <tr>\n",
       "      <th>Saar</th>\n",
       "      <td>0.333333</td>\n",
       "      <td>1.0</td>\n",
       "      <td>0.5</td>\n",
       "      <td>1.0</td>\n",
       "      <td>0.666667</td>\n",
       "      <td>0.00</td>\n",
       "    </tr>\n",
       "    <tr>\n",
       "      <th>Sofiya</th>\n",
       "      <td>0.333333</td>\n",
       "      <td>1.0</td>\n",
       "      <td>1.0</td>\n",
       "      <td>1.0</td>\n",
       "      <td>0.333333</td>\n",
       "      <td>0.25</td>\n",
       "    </tr>\n",
       "    <tr>\n",
       "      <th>Leo</th>\n",
       "      <td>1.000000</td>\n",
       "      <td>0.0</td>\n",
       "      <td>0.0</td>\n",
       "      <td>0.0</td>\n",
       "      <td>1.000000</td>\n",
       "      <td>0.75</td>\n",
       "    </tr>\n",
       "    <tr>\n",
       "      <th>Shay</th>\n",
       "      <td>0.666667</td>\n",
       "      <td>0.5</td>\n",
       "      <td>0.0</td>\n",
       "      <td>0.5</td>\n",
       "      <td>0.000000</td>\n",
       "      <td>1.00</td>\n",
       "    </tr>\n",
       "    <tr>\n",
       "      <th>Guy</th>\n",
       "      <td>0.000000</td>\n",
       "      <td>1.0</td>\n",
       "      <td>0.0</td>\n",
       "      <td>1.0</td>\n",
       "      <td>0.666667</td>\n",
       "      <td>0.75</td>\n",
       "    </tr>\n",
       "  </tbody>\n",
       "</table>\n",
       "</div>"
      ],
      "text/plain": [
       "        Inception  Taxi Driver  Grease  Raging Bull  Space Jam  Dune\n",
       "Saar     0.333333          1.0     0.5          1.0   0.666667  0.00\n",
       "Sofiya   0.333333          1.0     1.0          1.0   0.333333  0.25\n",
       "Leo      1.000000          0.0     0.0          0.0   1.000000  0.75\n",
       "Shay     0.666667          0.5     0.0          0.5   0.000000  1.00\n",
       "Guy      0.000000          1.0     0.0          1.0   0.666667  0.75"
      ]
     },
     "execution_count": 33,
     "metadata": {},
     "output_type": "execute_result"
    }
   ],
   "source": [
    "# Normalize using Min/Max Normalization.\n",
    "normalized_df=(df-df.min())/(df.max()-df.min())\n",
    "normalized_df"
   ]
  },
  {
   "cell_type": "code",
   "execution_count": 34,
   "id": "a3717a4e",
   "metadata": {},
   "outputs": [
    {
     "data": {
      "text/plain": [
       "Inception      0.466667\n",
       "Taxi Driver    0.700000\n",
       "Grease         0.300000\n",
       "Raging Bull    0.700000\n",
       "Space Jam      0.533333\n",
       "Dune           0.550000\n",
       "dtype: float64"
      ]
     },
     "execution_count": 34,
     "metadata": {},
     "output_type": "execute_result"
    }
   ],
   "source": [
    "# show the average of the normalization\n",
    "normalized_df.mean()"
   ]
  },
  {
   "cell_type": "code",
   "execution_count": 31,
   "id": "801be1f7",
   "metadata": {},
   "outputs": [
    {
     "data": {
      "text/html": [
       "<div>\n",
       "<style scoped>\n",
       "    .dataframe tbody tr th:only-of-type {\n",
       "        vertical-align: middle;\n",
       "    }\n",
       "\n",
       "    .dataframe tbody tr th {\n",
       "        vertical-align: top;\n",
       "    }\n",
       "\n",
       "    .dataframe thead th {\n",
       "        text-align: right;\n",
       "    }\n",
       "</style>\n",
       "<table border=\"1\" class=\"dataframe\">\n",
       "  <thead>\n",
       "    <tr style=\"text-align: right;\">\n",
       "      <th></th>\n",
       "      <th>Inception</th>\n",
       "      <th>Taxi Driver</th>\n",
       "      <th>Grease</th>\n",
       "      <th>Raging Bull</th>\n",
       "      <th>Space Jam</th>\n",
       "      <th>Dune</th>\n",
       "    </tr>\n",
       "  </thead>\n",
       "  <tbody>\n",
       "    <tr>\n",
       "      <th>Saar</th>\n",
       "      <td>-0.350823</td>\n",
       "      <td>0.670820</td>\n",
       "      <td>0.447214</td>\n",
       "      <td>0.670820</td>\n",
       "      <td>0.350823</td>\n",
       "      <td>-1.338877</td>\n",
       "    </tr>\n",
       "    <tr>\n",
       "      <th>Sofiya</th>\n",
       "      <td>-0.350823</td>\n",
       "      <td>0.670820</td>\n",
       "      <td>1.565248</td>\n",
       "      <td>0.670820</td>\n",
       "      <td>-0.526235</td>\n",
       "      <td>-0.730297</td>\n",
       "    </tr>\n",
       "    <tr>\n",
       "      <th>Leo</th>\n",
       "      <td>1.403293</td>\n",
       "      <td>-1.565248</td>\n",
       "      <td>-0.670820</td>\n",
       "      <td>-1.565248</td>\n",
       "      <td>1.227881</td>\n",
       "      <td>0.486864</td>\n",
       "    </tr>\n",
       "    <tr>\n",
       "      <th>Shay</th>\n",
       "      <td>0.526235</td>\n",
       "      <td>-0.447214</td>\n",
       "      <td>-0.670820</td>\n",
       "      <td>-0.447214</td>\n",
       "      <td>-1.403293</td>\n",
       "      <td>1.095445</td>\n",
       "    </tr>\n",
       "    <tr>\n",
       "      <th>Guy</th>\n",
       "      <td>-1.227881</td>\n",
       "      <td>0.670820</td>\n",
       "      <td>-0.670820</td>\n",
       "      <td>0.670820</td>\n",
       "      <td>0.350823</td>\n",
       "      <td>0.486864</td>\n",
       "    </tr>\n",
       "  </tbody>\n",
       "</table>\n",
       "</div>"
      ],
      "text/plain": [
       "        Inception  Taxi Driver    Grease  Raging Bull  Space Jam      Dune\n",
       "Saar    -0.350823     0.670820  0.447214     0.670820   0.350823 -1.338877\n",
       "Sofiya  -0.350823     0.670820  1.565248     0.670820  -0.526235 -0.730297\n",
       "Leo      1.403293    -1.565248 -0.670820    -1.565248   1.227881  0.486864\n",
       "Shay     0.526235    -0.447214 -0.670820    -0.447214  -1.403293  1.095445\n",
       "Guy     -1.227881     0.670820 -0.670820     0.670820   0.350823  0.486864"
      ]
     },
     "execution_count": 31,
     "metadata": {},
     "output_type": "execute_result"
    }
   ],
   "source": [
    "#standardize the values in each column\n",
    "df_new = (df-df.mean())/df.std()\n",
    "df_new"
   ]
  },
  {
   "cell_type": "code",
   "execution_count": 35,
   "id": "94ee7904",
   "metadata": {},
   "outputs": [
    {
     "data": {
      "text/plain": [
       "Inception      8.881784e-17\n",
       "Taxi Driver   -4.218847e-16\n",
       "Grease        -8.881784e-17\n",
       "Raging Bull   -4.218847e-16\n",
       "Space Jam     -7.771561e-17\n",
       "Dune          -9.992007e-17\n",
       "dtype: float64"
      ]
     },
     "execution_count": 35,
     "metadata": {},
     "output_type": "execute_result"
    }
   ],
   "source": [
    "# show the average of the standardize values\n",
    "\n",
    "df_new.mean()"
   ]
  },
  {
   "cell_type": "code",
   "execution_count": null,
   "id": "9882d52d",
   "metadata": {},
   "outputs": [],
   "source": []
  }
 ],
 "metadata": {
  "kernelspec": {
   "display_name": "Python 3 (ipykernel)",
   "language": "python",
   "name": "python3"
  },
  "language_info": {
   "codemirror_mode": {
    "name": "ipython",
    "version": 3
   },
   "file_extension": ".py",
   "mimetype": "text/x-python",
   "name": "python",
   "nbconvert_exporter": "python",
   "pygments_lexer": "ipython3",
   "version": "3.9.13"
  }
 },
 "nbformat": 4,
 "nbformat_minor": 5
}
